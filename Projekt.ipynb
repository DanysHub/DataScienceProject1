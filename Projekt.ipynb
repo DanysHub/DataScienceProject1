{
 "cells": [
  {
   "cell_type": "markdown",
   "metadata": {},
   "source": [
    "Analyseziel: Preis durch Daten vorhersagen."
   ]
  },
  {
   "cell_type": "markdown",
   "metadata": {},
   "source": [
    "avff"
   ]
  },
  {
   "cell_type": "markdown",
   "metadata": {},
   "source": [
    "### Beschreibung des Datensatzes\n",
    "\n",
    "#### **Dateninhalt**\n",
    "- **Anzahl der Einträge**: 53.940\n",
    "- **Spalten**: 11, darunter:\n",
    "  - `carat` (Karatgewicht des Diamanten, numerisch)\n",
    "  - `cut` (Qualitätsbewertung des Schliffs, kategorisch: Ideal, Premium, Good, usw.)\n",
    "  - `color` (Farbskala des Diamanten, kategorisch: D (farblos) bis J (leicht getönt))\n",
    "  - `clarity` (Klarheit des Diamanten, kategorisch: von IF (lupenrein) bis I3 (sichtbare Einschlüsse))\n",
    "  - `depth`, `table` (prozentuale Maße des Diamanten, numerisch)\n",
    "  - `price` (Preis in USD, numerisch)\n",
    "  - `x`, `y`, `z` (physikalische Dimensionen in mm, numerisch)\n",
    "  \n",
    "#### **Zusammenfassung**\n",
    "- Der Datensatz umfasst sowohl numerische als auch kategorische Daten.\n",
    "- Die wichtigsten numerischen Kennzahlen:\n",
    "  - Karatgewicht (`carat`): Mittelwert 0,798, Maximalwert 5,01.\n",
    "  - Preis (`price`): Mittelwert 3.933 USD, Maximalwert 18.823 USD.\n",
    "  - Maße: `x`, `y`, `z` (Abmessungen), mit einigen Einträgen bei 0 (mögliche Fehler).\n",
    "- Kategorien wie `cut`, `color` und `clarity` sind gut vertreten, wobei die häufigsten Werte:\n",
    "  - `cut`: \"Ideal\" (21.551 Einträge)\n",
    "  - `color`: \"G\" (11.292 Einträge)\n",
    "  - `clarity`: \"SI1\" (13.065 Einträge) sind.\n",
    "\n",
    "---\n",
    "\n",
    "### Datenqualität\n",
    "- **Vollständigkeit**: Alle Spalten haben 53.940 Einträge, keine Null-Werte.\n",
    "- **Konsistenz**: Werte wie `x`, `y`, `z` enthalten gelegentlich 0, was unlogisch für physikalische Maße ist.\n",
    "- **Genauigkeit**: Die Kategorien (`cut`, `color`, `clarity`) sind plausibel und einheitlich, aber numerische Anomalien wie `x = 0` deuten auf mögliche Datenfehler hin.\n",
    "- **Aktualität**: Keine zeitlichen Daten im Datensatz, daher Aktualität unbestimmbar.\n",
    "- **Relevanz**: Für Analysen zu Diamantenpreisen und -qualitäten gut geeignet.\n",
    "\n",
    "Falls du spezifische Analysen oder Bereinigungen benötigst, lass es mich wissen!"
   ]
  }
 ],
 "metadata": {
  "language_info": {
   "name": "python"
  }
 },
 "nbformat": 4,
 "nbformat_minor": 2
}
